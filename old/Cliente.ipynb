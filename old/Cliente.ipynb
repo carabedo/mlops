{
 "cells": [
  {
   "cell_type": "code",
   "execution_count": 2,
   "id": "a407293e",
   "metadata": {},
   "outputs": [],
   "source": [
    "import requests"
   ]
  },
  {
   "cell_type": "code",
   "execution_count": 36,
   "id": "3f4c0fec",
   "metadata": {},
   "outputs": [],
   "source": [
    "datos={ 'tipo' : 'PH',\n",
    "        'barrio' : 'Almagro',\n",
    "        'sup' : 20 ,\n",
    "        'habs' : 2\n",
    "}"
   ]
  },
  {
   "cell_type": "code",
   "execution_count": 38,
   "id": "d2e23f71",
   "metadata": {},
   "outputs": [
    {
     "data": {
      "text/plain": [
       "{'response': 3908.230533333333}"
      ]
     },
     "execution_count": 38,
     "metadata": {},
     "output_type": "execute_result"
    }
   ],
   "source": [
    "llamada=requests.post('http://127.0.0.1:3000/modelo/',json=datos)\n",
    "llamada.json()"
   ]
  },
  {
   "cell_type": "code",
   "execution_count": 3,
   "id": "ea8fccfb",
   "metadata": {},
   "outputs": [
    {
     "data": {
      "text/plain": [
       "'hola!'"
      ]
     },
     "execution_count": 3,
     "metadata": {},
     "output_type": "execute_result"
    }
   ],
   "source": [
    "requests.post('http://015a-35-243-220-12.ngrok.io',json={'texto' : 'hola!'}).json()"
   ]
  }
 ],
 "metadata": {
  "kernelspec": {
   "display_name": "Python 3 (ipykernel)",
   "language": "python",
   "name": "python3"
  },
  "language_info": {
   "codemirror_mode": {
    "name": "ipython",
    "version": 3
   },
   "file_extension": ".py",
   "mimetype": "text/x-python",
   "name": "python",
   "nbconvert_exporter": "python",
   "pygments_lexer": "ipython3",
   "version": "3.11.4"
  }
 },
 "nbformat": 4,
 "nbformat_minor": 5
}
